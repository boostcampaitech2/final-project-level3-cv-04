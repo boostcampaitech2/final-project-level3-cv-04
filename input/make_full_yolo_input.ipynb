{
 "cells": [
  {
   "cell_type": "markdown",
   "metadata": {},
   "source": [
    "병원 데이터셋을 yolo input으로 사용할 수 있도록 \n",
    "\n",
    "\n",
    "annotation file을 만들고\n",
    "\n",
    "\n",
    "f\"{class-1}\\t\"를 작성함.\n",
    "\n",
    "\n",
    "Class는 0부터 시작함. "
   ]
  },
  {
   "cell_type": "code",
   "execution_count": 39,
   "metadata": {},
   "outputs": [],
   "source": [
    "from torch.utils.data import dataloader\n",
    "import os\n",
    "import pandas as pd\n",
    "import cv2\n",
    "import shutil\n",
    "\n",
    "# === Custom Var ===\n",
    "SAVE_IMAGE_ROOT = \"./full_image\"\n",
    "SAVE_TXT_ROOT = \"./full_label\"\n",
    "TRAIN = \"full_train\"\n",
    "VALID = \"full_valid\"\n",
    "# =================="
   ]
  },
  {
   "cell_type": "code",
   "execution_count": 40,
   "metadata": {},
   "outputs": [],
   "source": [
    "\n",
    "def initFolder():\n",
    "    os.makedirs(SAVE_TXT_ROOT, exist_ok=True)\n",
    "    # train set \n",
    "    os.makedirs(os.path.join(SAVE_TXT_ROOT, \"train\"), exist_ok=True)\n",
    "    # valid set\n",
    "    os.makedirs(os.path.join(SAVE_TXT_ROOT, \"valid\"), exist_ok=True)\n",
    "    # train set \n",
    "    os.makedirs(os.path.join(SAVE_IMAGE_ROOT, \"train\"), exist_ok=True)\n",
    "    # valid set\n",
    "    os.makedirs(os.path.join(SAVE_IMAGE_ROOT, \"valid\"), exist_ok=True)\n"
   ]
  },
  {
   "cell_type": "code",
   "execution_count": 41,
   "metadata": {},
   "outputs": [],
   "source": [
    "initFolder()"
   ]
  },
  {
   "cell_type": "code",
   "execution_count": 44,
   "metadata": {},
   "outputs": [],
   "source": [
    "# Train set\n",
    "line = pd.read_csv(f\"{TRAIN}.csv\")\n",
    "line.head()\n",
    "for index, row in line.iterrows():\n",
    "    #----Write Label .txt file----\n",
    "    file_path = row['file_name']\n",
    "    # 파일명 중복 방지를 위해 살짝 가공\n",
    "    if \"kaggle\" in file_path:\n",
    "        filename = file_path.replace(\"kaggle_image\", \"\")\n",
    "        filename = filename.replace(\"/\", \"\")\n",
    "        filename = filename.replace(\".\", \"\")\n",
    "        filename = filename.replace(\"jpeg\", \"\")\n",
    "    else:\n",
    "        filename = file_path.split(\".\")[-2]\n",
    "        filename = filename.split(\"/\")[-1]\n",
    "    label = int(row['label'])-1 #YOLO에서는 Label=0부터 시작\n",
    "    f = open(f\"{SAVE_TXT_ROOT}/train/{filename}.txt\", \"w+\")\n",
    "    f.write(str(label)+\"\\t\")\n",
    "\n",
    "    #----Save image as same filename at single folder\n",
    "    if os.path.isfile(file_path):\n",
    "        dst = SAVE_IMAGE_ROOT + \"/train/\" + filename + \".jpeg\"\n",
    "        #print(dst)\n",
    "        shutil.move(file_path, dst)\n"
   ]
  },
  {
   "cell_type": "code",
   "execution_count": 45,
   "metadata": {},
   "outputs": [],
   "source": [
    "# Valid set\n",
    "line = pd.read_csv(f\"{VALID}.csv\")\n",
    "line.head()\n",
    "for index, row in line.iterrows():\n",
    "    #----Write Label .txt file----\n",
    "    file_path = row['file_name']\n",
    "    # 파일명 중복 방지를 위해 살짝 가공\n",
    "    if \"kaggle\" in file_path:\n",
    "        filename = file_path.replace(\"kaggle_image\", \"\")\n",
    "        filename = filename.replace(\"/\", \"\")\n",
    "        filename = filename.replace(\".\", \"\")\n",
    "        filename = filename.replace(\"jpeg\", \"\")\n",
    "    else:\n",
    "        filename = file_path.split(\".\")[-2]\n",
    "        filename = filename.split(\"/\")[-1]\n",
    "    label = int(row['label'])-1 #YOLO에서는 Label=0부터 시작\n",
    "    f = open(f\"{SAVE_TXT_ROOT}/valid/{filename}.txt\", \"w+\")\n",
    "    f.write(str(label)+\"\\t\")\n",
    "\n",
    "    #----Save image as same filename at single folder\n",
    "    src = file_path\n",
    "    dst = SAVE_IMAGE_ROOT + \"/valid/\" + filename + \".jpeg\"\n",
    "    #print(dst)\n",
    "    shutil.move(src, dst)\n"
   ]
  }
 ],
 "metadata": {
  "interpreter": {
   "hash": "978d5707b7c196c3831747d301f7e8256aef35df9e61b45ddd657e9ae39cf07e"
  },
  "kernelspec": {
   "display_name": "Python 3.7.11 64-bit ('project': conda)",
   "language": "python",
   "name": "python3"
  },
  "language_info": {
   "codemirror_mode": {
    "name": "ipython",
    "version": 3
   },
   "file_extension": ".py",
   "mimetype": "text/x-python",
   "name": "python",
   "nbconvert_exporter": "python",
   "pygments_lexer": "ipython3",
   "version": "3.7.11"
  },
  "orig_nbformat": 4
 },
 "nbformat": 4,
 "nbformat_minor": 2
}

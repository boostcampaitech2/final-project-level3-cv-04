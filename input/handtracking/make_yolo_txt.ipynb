{
 "cells": [
  {
   "cell_type": "markdown",
   "metadata": {},
   "source": [
    "# Make label.txt\n",
    "\n",
    "데이터셋을 yolo input으로 사용할 수 있도록 \n",
    "\n",
    "\n",
    "1. 이미지들을 한 디렉토리로 이동\n",
    "2. 이미지 파일명 고유하게 변경\n",
    "3. 이미지 파일명과 동일한 .txt 파일 만들고 `int(class)-1`를 작성함. (YOLO에서 Class는 0부터 시작하기 때문)\n",
    "\n",
    "**주의!**\n",
    "해당 파일을 실행하기 전, \n",
    "`../make_full_input.py`를 실행해둬야 함"
   ]
  },
  {
   "cell_type": "code",
   "execution_count": 39,
   "metadata": {},
   "outputs": [],
   "source": [
    "import os\n",
    "import pandas as pd\n",
    "import shutil\n",
    "\n",
    "# === Custom Var ===\n",
    "SAVE_IMAGE_ROOT = \"./full_image\"    # Directory to save image\n",
    "SAVE_TXT_ROOT = \"./full_label\"      # Directory to save label\n",
    "TRAIN = \"full_train\"                # 변환할 train 데이터셋 이름 (full_train, kaggle_train, train 중 하나)\n",
    "VALID = \"full_valid\"                # 변환할 valid 데이터셋 이름 (full_valid, kaggle_valid, valid 중 하나)\n",
    "# =================="
   ]
  },
  {
   "cell_type": "markdown",
   "metadata": {},
   "source": [
    "## Initialize Folder"
   ]
  },
  {
   "cell_type": "code",
   "execution_count": 40,
   "metadata": {},
   "outputs": [],
   "source": [
    "\n",
    "def initFolder():\n",
    "    os.makedirs(SAVE_TXT_ROOT, exist_ok=True)\n",
    "    # train set \n",
    "    os.makedirs(os.path.join(SAVE_TXT_ROOT, \"train\"), exist_ok=True)\n",
    "    # valid set\n",
    "    os.makedirs(os.path.join(SAVE_TXT_ROOT, \"valid\"), exist_ok=True)\n",
    "    # train set \n",
    "    os.makedirs(os.path.join(SAVE_IMAGE_ROOT, \"train\"), exist_ok=True)\n",
    "    # valid set\n",
    "    os.makedirs(os.path.join(SAVE_IMAGE_ROOT, \"valid\"), exist_ok=True)\n"
   ]
  },
  {
   "cell_type": "code",
   "execution_count": 41,
   "metadata": {},
   "outputs": [],
   "source": [
    "initFolder()"
   ]
  },
  {
   "cell_type": "markdown",
   "metadata": {},
   "source": [
    "## Pre-process file name, Make file"
   ]
  },
  {
   "cell_type": "code",
   "execution_count": 44,
   "metadata": {},
   "outputs": [],
   "source": [
    "# Train set\n",
    "line = pd.read_csv(f\"{TRAIN}.csv\")\n",
    "line.head()\n",
    "for index, row in line.iterrows():\n",
    "    #----Write Label .txt file----\n",
    "    file_path = row['file_name']\n",
    "    # 파일명 중복 방지를 위해 살짝 가공\n",
    "    if \"kaggle\" in file_path:\n",
    "        filename = file_path.replace(\"kaggle_image\", \"\")\n",
    "        filename = filename.replace(\"/\", \"\")\n",
    "        filename = filename.replace(\".\", \"\")\n",
    "        filename = filename.replace(\"jpeg\", \"\")\n",
    "    else:\n",
    "        filename = file_path.split(\".\")[-2]\n",
    "        filename = filename.split(\"/\")[-1]\n",
    "    label = int(row['label'])-1 #YOLO에서는 Label=0부터 시작\n",
    "    f = open(f\"{SAVE_TXT_ROOT}/train/{filename}.txt\", \"w\")\n",
    "    f.write(str(label)+\"\\t\")\n",
    "\n",
    "    #----Save image as same filename at single folder\n",
    "    if os.path.isfile(file_path):\n",
    "        dst = SAVE_IMAGE_ROOT + \"/train/\" + filename + \".jpeg\"\n",
    "        #print(dst)\n",
    "        shutil.move(file_path, dst)\n"
   ]
  },
  {
   "cell_type": "code",
   "execution_count": 45,
   "metadata": {},
   "outputs": [],
   "source": [
    "# Valid set\n",
    "line = pd.read_csv(f\"{VALID}.csv\")\n",
    "line.head()\n",
    "for index, row in line.iterrows():\n",
    "    #----Write Label .txt file----\n",
    "    file_path = row['file_name']\n",
    "    # 파일명 중복 방지를 위해 살짝 가공\n",
    "    if \"kaggle\" in file_path:\n",
    "        filename = file_path.replace(\"kaggle_image\", \"\")\n",
    "        filename = filename.replace(\"/\", \"\")\n",
    "        filename = filename.replace(\".\", \"\")\n",
    "        filename = filename.replace(\"jpeg\", \"\")\n",
    "    else:\n",
    "        filename = file_path.split(\".\")[-2]\n",
    "        filename = filename.split(\"/\")[-1]\n",
    "    label = int(row['label'])-1 #YOLO에서는 Label=0부터 시작\n",
    "    f = open(f\"{SAVE_TXT_ROOT}/valid/{filename}.txt\", \"w\")\n",
    "    f.write(str(label)+\"\\t\")\n",
    "\n",
    "    #----Save image as same filename at single folder\n",
    "    src = file_path\n",
    "    dst = SAVE_IMAGE_ROOT + \"/valid/\" + filename + \".jpeg\"\n",
    "    #print(dst)\n",
    "    shutil.move(src, dst)\n"
   ]
  }
 ],
 "metadata": {
  "interpreter": {
   "hash": "978d5707b7c196c3831747d301f7e8256aef35df9e61b45ddd657e9ae39cf07e"
  },
  "kernelspec": {
   "display_name": "Python 3.7.11 64-bit ('project': conda)",
   "language": "python",
   "name": "python3"
  },
  "language_info": {
   "codemirror_mode": {
    "name": "ipython",
    "version": 3
   },
   "file_extension": ".py",
   "mimetype": "text/x-python",
   "name": "python",
   "nbconvert_exporter": "python",
   "pygments_lexer": "ipython3",
   "version": "3.7.11"
  },
  "orig_nbformat": 4
 },
 "nbformat": 4,
 "nbformat_minor": 2
}
